{
  "nbformat": 4,
  "nbformat_minor": 0,
  "metadata": {
    "colab": {
      "provenance": [],
      "authorship_tag": "ABX9TyPgfB6lrT+9FPFAXsnOTk3C",
      "include_colab_link": true
    },
    "kernelspec": {
      "name": "python3",
      "display_name": "Python 3"
    },
    "language_info": {
      "name": "python"
    }
  },
  "cells": [
    {
      "cell_type": "markdown",
      "metadata": {
        "id": "view-in-github",
        "colab_type": "text"
      },
      "source": [
        "<a href=\"https://colab.research.google.com/github/jeniferGoncalvesDaSilvaDev/engenharia-de-software-para-ds/blob/main/Pratica_eng_soft_para_ds_livro.ipynb\" target=\"_parent\"><img src=\"https://colab.research.google.com/assets/colab-badge.svg\" alt=\"Open In Colab\"/></a>"
      ]
    },
    {
      "cell_type": "markdown",
      "source": [
        "Capitulo 1- Princípios de engenharia de software"
      ],
      "metadata": {
        "id": "Y7fT8N7mypsY"
      }
    },
    {
      "cell_type": "code",
      "execution_count": 1,
      "metadata": {
        "id": "KqgJb498yQZA"
      },
      "outputs": [],
      "source": [
        "import pandas as pd\n",
        "\n",
        "def f(d):\n",
        "    r = []\n",
        "    for i in range(len(d)):\n",
        "        if d['age'][i] > 30 and d['income'][i] < 50000:\n",
        "            r.append(1)\n",
        "        else:\n",
        "            r.append(0)\n",
        "    d['flag'] = r\n",
        "    return d"
      ]
    },
    {
      "cell_type": "markdown",
      "source": [
        "Refaratorando o code acima"
      ],
      "metadata": {
        "id": "XqQ4URQmylMC"
      }
    },
    {
      "cell_type": "code",
      "source": [
        "def add_income(df):\n",
        "   \"\"\" função que adiciona a coluna aumento de salario se a idade for maior que trinta anos\"\"\"\n",
        "   add_income_for_thirty_years =lambda df: ((df['age'] > 30) & (df['income'] < 50000)).astype(int)\n",
        "   return add_income_for_thirty_years(df)"
      ],
      "metadata": {
        "id": "-xXaPiBEywv7"
      },
      "execution_count": 7,
      "outputs": []
    },
    {
      "cell_type": "markdown",
      "source": [
        "Executando teste unitário"
      ],
      "metadata": {
        "id": "Z5c54YIdzyQZ"
      }
    },
    {
      "cell_type": "code",
      "source": [
        "!pip install pytest pandas"
      ],
      "metadata": {
        "colab": {
          "base_uri": "https://localhost:8080/"
        },
        "id": "fJ4eZsOa0OF1",
        "outputId": "733c9df5-00b8-4e71-9be4-f61e0263f3a6"
      },
      "execution_count": 8,
      "outputs": [
        {
          "output_type": "stream",
          "name": "stdout",
          "text": [
            "Requirement already satisfied: pytest in /usr/local/lib/python3.11/dist-packages (8.3.5)\n",
            "Requirement already satisfied: pandas in /usr/local/lib/python3.11/dist-packages (2.2.2)\n",
            "Requirement already satisfied: iniconfig in /usr/local/lib/python3.11/dist-packages (from pytest) (2.1.0)\n",
            "Requirement already satisfied: packaging in /usr/local/lib/python3.11/dist-packages (from pytest) (24.2)\n",
            "Requirement already satisfied: pluggy<2,>=1.5 in /usr/local/lib/python3.11/dist-packages (from pytest) (1.6.0)\n",
            "Requirement already satisfied: numpy>=1.23.2 in /usr/local/lib/python3.11/dist-packages (from pandas) (2.0.2)\n",
            "Requirement already satisfied: python-dateutil>=2.8.2 in /usr/local/lib/python3.11/dist-packages (from pandas) (2.9.0.post0)\n",
            "Requirement already satisfied: pytz>=2020.1 in /usr/local/lib/python3.11/dist-packages (from pandas) (2025.2)\n",
            "Requirement already satisfied: tzdata>=2022.7 in /usr/local/lib/python3.11/dist-packages (from pandas) (2025.2)\n",
            "Requirement already satisfied: six>=1.5 in /usr/local/lib/python3.11/dist-packages (from python-dateutil>=2.8.2->pandas) (1.17.0)\n"
          ]
        }
      ]
    },
    {
      "cell_type": "code",
      "source": [
        "\n",
        "\n",
        "\n",
        "import pytest\n",
        "import pandas as pd\n",
        "\n",
        "def test_add_income():\n",
        "    data = {'age': [25, 35, 40, 30],\n",
        "            'income': [60000, 40000, 70000, 45000]}\n",
        "    df = pd.DataFrame(data)\n",
        "    expected_output = pd.Series([0, 1, 0, 0], name='flag').astype(int)\n",
        "    result = add_income(df)\n",
        "    pd.testing.assert_series_equal(result, expected_output)"
      ],
      "metadata": {
        "id": "c-lea8jYzxhj"
      },
      "execution_count": 9,
      "outputs": []
    }
  ]
}